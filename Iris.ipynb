{
 "cells": [
  {
   "cell_type": "markdown",
   "metadata": {},
   "source": [
    "# Studi Kasus LKS Kota Iris"
   ]
  },
  {
   "cell_type": "code",
   "execution_count": 68,
   "metadata": {},
   "outputs": [],
   "source": [
    "import pandas as pd\n",
    "import seaborn as sns\n",
    "import numpy as np\n",
    "import matplotlib.pyplot as plt"
   ]
  },
  {
   "cell_type": "markdown",
   "metadata": {},
   "source": [
    "# Data Preparation"
   ]
  },
  {
   "cell_type": "code",
   "execution_count": 69,
   "metadata": {},
   "outputs": [
    {
     "data": {
      "text/html": [
       "<div>\n",
       "<style scoped>\n",
       "    .dataframe tbody tr th:only-of-type {\n",
       "        vertical-align: middle;\n",
       "    }\n",
       "\n",
       "    .dataframe tbody tr th {\n",
       "        vertical-align: top;\n",
       "    }\n",
       "\n",
       "    .dataframe thead th {\n",
       "        text-align: right;\n",
       "    }\n",
       "</style>\n",
       "<table border=\"1\" class=\"dataframe\">\n",
       "  <thead>\n",
       "    <tr style=\"text-align: right;\">\n",
       "      <th></th>\n",
       "      <th>Id</th>\n",
       "      <th>SepalLengthCm</th>\n",
       "      <th>SepalWidthCm</th>\n",
       "      <th>PetalLengthCm</th>\n",
       "      <th>PetalWidthCm</th>\n",
       "      <th>Species</th>\n",
       "    </tr>\n",
       "  </thead>\n",
       "  <tbody>\n",
       "    <tr>\n",
       "      <th>0</th>\n",
       "      <td>1</td>\n",
       "      <td>5.1</td>\n",
       "      <td>3.5</td>\n",
       "      <td>1.4</td>\n",
       "      <td>0.2</td>\n",
       "      <td>Iris-setosa</td>\n",
       "    </tr>\n",
       "    <tr>\n",
       "      <th>1</th>\n",
       "      <td>2</td>\n",
       "      <td>4.9</td>\n",
       "      <td>3.0</td>\n",
       "      <td>1.4</td>\n",
       "      <td>0.2</td>\n",
       "      <td>Iris-setosa</td>\n",
       "    </tr>\n",
       "    <tr>\n",
       "      <th>2</th>\n",
       "      <td>3</td>\n",
       "      <td>4.7</td>\n",
       "      <td>3.2</td>\n",
       "      <td>1.3</td>\n",
       "      <td>0.2</td>\n",
       "      <td>Iris-setosa</td>\n",
       "    </tr>\n",
       "    <tr>\n",
       "      <th>3</th>\n",
       "      <td>4</td>\n",
       "      <td>4.6</td>\n",
       "      <td>3.1</td>\n",
       "      <td>1.5</td>\n",
       "      <td>0.2</td>\n",
       "      <td>Iris-setosa</td>\n",
       "    </tr>\n",
       "    <tr>\n",
       "      <th>4</th>\n",
       "      <td>5</td>\n",
       "      <td>5.0</td>\n",
       "      <td>3.6</td>\n",
       "      <td>1.4</td>\n",
       "      <td>0.2</td>\n",
       "      <td>Iris-setosa</td>\n",
       "    </tr>\n",
       "    <tr>\n",
       "      <th>...</th>\n",
       "      <td>...</td>\n",
       "      <td>...</td>\n",
       "      <td>...</td>\n",
       "      <td>...</td>\n",
       "      <td>...</td>\n",
       "      <td>...</td>\n",
       "    </tr>\n",
       "    <tr>\n",
       "      <th>145</th>\n",
       "      <td>146</td>\n",
       "      <td>6.7</td>\n",
       "      <td>3.0</td>\n",
       "      <td>5.2</td>\n",
       "      <td>2.3</td>\n",
       "      <td>Iris-virginica</td>\n",
       "    </tr>\n",
       "    <tr>\n",
       "      <th>146</th>\n",
       "      <td>147</td>\n",
       "      <td>6.3</td>\n",
       "      <td>2.5</td>\n",
       "      <td>5.0</td>\n",
       "      <td>1.9</td>\n",
       "      <td>Iris-virginica</td>\n",
       "    </tr>\n",
       "    <tr>\n",
       "      <th>147</th>\n",
       "      <td>148</td>\n",
       "      <td>6.5</td>\n",
       "      <td>3.0</td>\n",
       "      <td>5.2</td>\n",
       "      <td>2.0</td>\n",
       "      <td>Iris-virginica</td>\n",
       "    </tr>\n",
       "    <tr>\n",
       "      <th>148</th>\n",
       "      <td>149</td>\n",
       "      <td>6.2</td>\n",
       "      <td>3.4</td>\n",
       "      <td>5.4</td>\n",
       "      <td>2.3</td>\n",
       "      <td>Iris-virginica</td>\n",
       "    </tr>\n",
       "    <tr>\n",
       "      <th>149</th>\n",
       "      <td>150</td>\n",
       "      <td>5.9</td>\n",
       "      <td>3.0</td>\n",
       "      <td>5.1</td>\n",
       "      <td>1.8</td>\n",
       "      <td>Iris-virginica</td>\n",
       "    </tr>\n",
       "  </tbody>\n",
       "</table>\n",
       "<p>150 rows × 6 columns</p>\n",
       "</div>"
      ],
      "text/plain": [
       "      Id  SepalLengthCm  SepalWidthCm  PetalLengthCm  PetalWidthCm  \\\n",
       "0      1            5.1           3.5            1.4           0.2   \n",
       "1      2            4.9           3.0            1.4           0.2   \n",
       "2      3            4.7           3.2            1.3           0.2   \n",
       "3      4            4.6           3.1            1.5           0.2   \n",
       "4      5            5.0           3.6            1.4           0.2   \n",
       "..   ...            ...           ...            ...           ...   \n",
       "145  146            6.7           3.0            5.2           2.3   \n",
       "146  147            6.3           2.5            5.0           1.9   \n",
       "147  148            6.5           3.0            5.2           2.0   \n",
       "148  149            6.2           3.4            5.4           2.3   \n",
       "149  150            5.9           3.0            5.1           1.8   \n",
       "\n",
       "            Species  \n",
       "0       Iris-setosa  \n",
       "1       Iris-setosa  \n",
       "2       Iris-setosa  \n",
       "3       Iris-setosa  \n",
       "4       Iris-setosa  \n",
       "..              ...  \n",
       "145  Iris-virginica  \n",
       "146  Iris-virginica  \n",
       "147  Iris-virginica  \n",
       "148  Iris-virginica  \n",
       "149  Iris-virginica  \n",
       "\n",
       "[150 rows x 6 columns]"
      ]
     },
     "execution_count": 69,
     "metadata": {},
     "output_type": "execute_result"
    }
   ],
   "source": [
    "dataset = pd.read_csv(r'E:\\pythonjupyter\\datasets\\Iris.csv')\n",
    "dataset"
   ]
  },
  {
   "cell_type": "markdown",
   "metadata": {},
   "source": [
    "# EDA"
   ]
  },
  {
   "cell_type": "code",
   "execution_count": 70,
   "metadata": {},
   "outputs": [
    {
     "name": "stdout",
     "output_type": "stream",
     "text": [
      "Id               0\n",
      "SepalLengthCm    0\n",
      "SepalWidthCm     0\n",
      "PetalLengthCm    0\n",
      "PetalWidthCm     0\n",
      "Species          0\n",
      "dtype: int64\n"
     ]
    }
   ],
   "source": [
    "print(dataset.isna().sum())"
   ]
  },
  {
   "cell_type": "code",
   "execution_count": 71,
   "metadata": {},
   "outputs": [
    {
     "name": "stdout",
     "output_type": "stream",
     "text": [
      "Id               0\n",
      "SepalLengthCm    0\n",
      "SepalWidthCm     0\n",
      "PetalLengthCm    0\n",
      "PetalWidthCm     0\n",
      "Species          0\n",
      "dtype: int64\n"
     ]
    }
   ],
   "source": [
    "print(dataset.isnull().sum())"
   ]
  },
  {
   "cell_type": "code",
   "execution_count": 72,
   "metadata": {},
   "outputs": [
    {
     "data": {
      "text/plain": [
       "Id                 int64\n",
       "SepalLengthCm    float64\n",
       "SepalWidthCm     float64\n",
       "PetalLengthCm    float64\n",
       "PetalWidthCm     float64\n",
       "Species           object\n",
       "dtype: object"
      ]
     },
     "execution_count": 72,
     "metadata": {},
     "output_type": "execute_result"
    }
   ],
   "source": [
    "dataset.dtypes"
   ]
  },
  {
   "cell_type": "code",
   "execution_count": 73,
   "metadata": {},
   "outputs": [
    {
     "name": "stdout",
     "output_type": "stream",
     "text": [
      "Jumlah Baris: 150\n",
      "Jumlah Kolom: 6\n"
     ]
    }
   ],
   "source": [
    "rows,columns = dataset.shape\n",
    "print(\"Jumlah Baris:\",rows)\n",
    "print(\"Jumlah Kolom:\",columns)"
   ]
  },
  {
   "cell_type": "code",
   "execution_count": 85,
   "metadata": {},
   "outputs": [
    {
     "data": {
      "text/plain": [
       "<Axes: >"
      ]
     },
     "execution_count": 85,
     "metadata": {},
     "output_type": "execute_result"
    },
    {
     "data": {
      "image/png": "[encoded data removed]",
      "text/plain": [
       "<Figure size 640x480 with 1 Axes>"
      ]
     },
     "metadata": {},
     "output_type": "display_data"
    }
   ],
   "source": [
    "\n",
    "dataset_drop = dataset.drop(columns='Id')\n",
    "sns.boxplot(dataset_drop)"
   ]
  },
  {
   "cell_type": "code",
   "execution_count": 75,
   "metadata": {},
   "outputs": [
    {
     "data": {
      "text/plain": [
       "<Axes: ylabel='count'>"
      ]
     },
     "execution_count": 75,
     "metadata": {},
     "output_type": "execute_result"
    },
    {
     "data": {
      "image/png": "[encoded data removed]",
      "text/plain": [
       "<Figure size 640x480 with 1 Axes>"
      ]
     },
     "metadata": {},
     "output_type": "display_data"
    }
   ],
   "source": [
    "sns.countplot(dataset)"
   ]
  },
  {
   "cell_type": "markdown",
   "metadata": {},
   "source": [
    "# Modelling"
   ]
  },
  {
   "cell_type": "markdown",
   "metadata": {},
   "source": [
    "### Pilih Variabel"
   ]
  },
  {
   "cell_type": "code",
   "execution_count": 76,
   "metadata": {},
   "outputs": [
    {
     "data": {
      "text/plain": [
       "array([[5.1, 3.5, 1.4, 0.2],\n",
       "       [4.9, 3. , 1.4, 0.2],\n",
       "       [4.7, 3.2, 1.3, 0.2],\n",
       "       [4.6, 3.1, 1.5, 0.2],\n",
       "       [5. , 3.6, 1.4, 0.2],\n",
       "       [5.4, 3.9, 1.7, 0.4],\n",
       "       [4.6, 3.4, 1.4, 0.3],\n",
       "       [5. , 3.4, 1.5, 0.2],\n",
       "       [4.4, 2.9, 1.4, 0.2],\n",
       "       [4.9, 3.1, 1.5, 0.1],\n",
       "       [5.4, 3.7, 1.5, 0.2],\n",
       "       [4.8, 3.4, 1.6, 0.2],\n",
       "       [4.8, 3. , 1.4, 0.1],\n",
       "       [4.3, 3. , 1.1, 0.1],\n",
       "       [5.8, 4. , 1.2, 0.2],\n",
       "       [5.7, 4.4, 1.5, 0.4],\n",
       "       [5.4, 3.9, 1.3, 0.4],\n",
       "       [5.1, 3.5, 1.4, 0.3],\n",
       "       [5.7, 3.8, 1.7, 0.3],\n",
       "       [5.1, 3.8, 1.5, 0.3],\n",
       "       [5.4, 3.4, 1.7, 0.2],\n",
       "       [5.1, 3.7, 1.5, 0.4],\n",
       "       [4.6, 3.6, 1. , 0.2],\n",
       "       [5.1, 3.3, 1.7, 0.5],\n",
       "       [4.8, 3.4, 1.9, 0.2],\n",
       "       [5. , 3. , 1.6, 0.2],\n",
       "       [5. , 3.4, 1.6, 0.4],\n",
       "       [5.2, 3.5, 1.5, 0.2],\n",
       "       [5.2, 3.4, 1.4, 0.2],\n",
       "       [4.7, 3.2, 1.6, 0.2],\n",
       "       [4.8, 3.1, 1.6, 0.2],\n",
       "       [5.4, 3.4, 1.5, 0.4],\n",
       "       [5.2, 4.1, 1.5, 0.1],\n",
       "       [5.5, 4.2, 1.4, 0.2],\n",
       "       [4.9, 3.1, 1.5, 0.1],\n",
       "       [5. , 3.2, 1.2, 0.2],\n",
       "       [5.5, 3.5, 1.3, 0.2],\n",
       "       [4.9, 3.1, 1.5, 0.1],\n",
       "       [4.4, 3. , 1.3, 0.2],\n",
       "       [5.1, 3.4, 1.5, 0.2],\n",
       "       [5. , 3.5, 1.3, 0.3],\n",
       "       [4.5, 2.3, 1.3, 0.3],\n",
       "       [4.4, 3.2, 1.3, 0.2],\n",
       "       [5. , 3.5, 1.6, 0.6],\n",
       "       [5.1, 3.8, 1.9, 0.4],\n",
       "       [4.8, 3. , 1.4, 0.3],\n",
       "       [5.1, 3.8, 1.6, 0.2],\n",
       "       [4.6, 3.2, 1.4, 0.2],\n",
       "       [5.3, 3.7, 1.5, 0.2],\n",
       "       [5. , 3.3, 1.4, 0.2],\n",
       "       [7. , 3.2, 4.7, 1.4],\n",
       "       [6.4, 3.2, 4.5, 1.5],\n",
       "       [6.9, 3.1, 4.9, 1.5],\n",
       "       [5.5, 2.3, 4. , 1.3],\n",
       "       [6.5, 2.8, 4.6, 1.5],\n",
       "       [5.7, 2.8, 4.5, 1.3],\n",
       "       [6.3, 3.3, 4.7, 1.6],\n",
       "       [4.9, 2.4, 3.3, 1. ],\n",
       "       [6.6, 2.9, 4.6, 1.3],\n",
       "       [5.2, 2.7, 3.9, 1.4],\n",
       "       [5. , 2. , 3.5, 1. ],\n",
       "       [5.9, 3. , 4.2, 1.5],\n",
       "       [6. , 2.2, 4. , 1. ],\n",
       "       [6.1, 2.9, 4.7, 1.4],\n",
       "       [5.6, 2.9, 3.6, 1.3],\n",
       "       [6.7, 3.1, 4.4, 1.4],\n",
       "       [5.6, 3. , 4.5, 1.5],\n",
       "       [5.8, 2.7, 4.1, 1. ],\n",
       "       [6.2, 2.2, 4.5, 1.5],\n",
       "       [5.6, 2.5, 3.9, 1.1],\n",
       "       [5.9, 3.2, 4.8, 1.8],\n",
       "       [6.1, 2.8, 4. , 1.3],\n",
       "       [6.3, 2.5, 4.9, 1.5],\n",
       "       [6.1, 2.8, 4.7, 1.2],\n",
       "       [6.4, 2.9, 4.3, 1.3],\n",
       "       [6.6, 3. , 4.4, 1.4],\n",
       "       [6.8, 2.8, 4.8, 1.4],\n",
       "       [6.7, 3. , 5. , 1.7],\n",
       "       [6. , 2.9, 4.5, 1.5],\n",
       "       [5.7, 2.6, 3.5, 1. ],\n",
       "       [5.5, 2.4, 3.8, 1.1],\n",
       "       [5.5, 2.4, 3.7, 1. ],\n",
       "       [5.8, 2.7, 3.9, 1.2],\n",
       "       [6. , 2.7, 5.1, 1.6],\n",
       "       [5.4, 3. , 4.5, 1.5],\n",
       "       [6. , 3.4, 4.5, 1.6],\n",
       "       [6.7, 3.1, 4.7, 1.5],\n",
       "       [6.3, 2.3, 4.4, 1.3],\n",
       "       [5.6, 3. , 4.1, 1.3],\n",
       "       [5.5, 2.5, 4. , 1.3],\n",
       "       [5.5, 2.6, 4.4, 1.2],\n",
       "       [6.1, 3. , 4.6, 1.4],\n",
       "       [5.8, 2.6, 4. , 1.2],\n",
       "       [5. , 2.3, 3.3, 1. ],\n",
       "       [5.6, 2.7, 4.2, 1.3],\n",
       "       [5.7, 3. , 4.2, 1.2],\n",
       "       [5.7, 2.9, 4.2, 1.3],\n",
       "       [6.2, 2.9, 4.3, 1.3],\n",
       "       [5.1, 2.5, 3. , 1.1],\n",
       "       [5.7, 2.8, 4.1, 1.3],\n",
       "       [6.3, 3.3, 6. , 2.5],\n",
       "       [5.8, 2.7, 5.1, 1.9],\n",
       "       [7.1, 3. , 5.9, 2.1],\n",
       "       [6.3, 2.9, 5.6, 1.8],\n",
       "       [6.5, 3. , 5.8, 2.2],\n",
       "       [7.6, 3. , 6.6, 2.1],\n",
       "       [4.9, 2.5, 4.5, 1.7],\n",
       "       [7.3, 2.9, 6.3, 1.8],\n",
       "       [6.7, 2.5, 5.8, 1.8],\n",
       "       [7.2, 3.6, 6.1, 2.5],\n",
       "       [6.5, 3.2, 5.1, 2. ],\n",
       "       [6.4, 2.7, 5.3, 1.9],\n",
       "       [6.8, 3. , 5.5, 2.1],\n",
       "       [5.7, 2.5, 5. , 2. ],\n",
       "       [5.8, 2.8, 5.1, 2.4],\n",
       "       [6.4, 3.2, 5.3, 2.3],\n",
       "       [6.5, 3. , 5.5, 1.8],\n",
       "       [7.7, 3.8, 6.7, 2.2],\n",
       "       [7.7, 2.6, 6.9, 2.3],\n",
       "       [6. , 2.2, 5. , 1.5],\n",
       "       [6.9, 3.2, 5.7, 2.3],\n",
       "       [5.6, 2.8, 4.9, 2. ],\n",
       "       [7.7, 2.8, 6.7, 2. ],\n",
       "       [6.3, 2.7, 4.9, 1.8],\n",
       "       [6.7, 3.3, 5.7, 2.1],\n",
       "       [7.2, 3.2, 6. , 1.8],\n",
       "       [6.2, 2.8, 4.8, 1.8],\n",
       "       [6.1, 3. , 4.9, 1.8],\n",
       "       [6.4, 2.8, 5.6, 2.1],\n",
       "       [7.2, 3. , 5.8, 1.6],\n",
       "       [7.4, 2.8, 6.1, 1.9],\n",
       "       [7.9, 3.8, 6.4, 2. ],\n",
       "       [6.4, 2.8, 5.6, 2.2],\n",
       "       [6.3, 2.8, 5.1, 1.5],\n",
       "       [6.1, 2.6, 5.6, 1.4],\n",
       "       [7.7, 3. , 6.1, 2.3],\n",
       "       [6.3, 3.4, 5.6, 2.4],\n",
       "       [6.4, 3.1, 5.5, 1.8],\n",
       "       [6. , 3. , 4.8, 1.8],\n",
       "       [6.9, 3.1, 5.4, 2.1],\n",
       "       [6.7, 3.1, 5.6, 2.4],\n",
       "       [6.9, 3.1, 5.1, 2.3],\n",
       "       [5.8, 2.7, 5.1, 1.9],\n",
       "       [6.8, 3.2, 5.9, 2.3],\n",
       "       [6.7, 3.3, 5.7, 2.5],\n",
       "       [6.7, 3. , 5.2, 2.3],\n",
       "       [6.3, 2.5, 5. , 1.9],\n",
       "       [6.5, 3. , 5.2, 2. ],\n",
       "       [6.2, 3.4, 5.4, 2.3],\n",
       "       [5.9, 3. , 5.1, 1.8]])"
      ]
     },
     "execution_count": 76,
     "metadata": {},
     "output_type": "execute_result"
    }
   ],
   "source": [
    "x=dataset[['SepalLengthCm','SepalWidthCm','PetalLengthCm','PetalWidthCm']].values\n",
    "x"
   ]
  },
  {
   "cell_type": "markdown",
   "metadata": {},
   "source": [
    "### Scaling"
   ]
  },
  {
   "cell_type": "code",
   "execution_count": 77,
   "metadata": {},
   "outputs": [
    {
     "data": {
      "text/plain": [
       "array([[ 0.82894251,  0.01840593, -1.04542332, -1.65332575],\n",
       "       [ 0.72762544, -0.23488675, -1.04542332, -1.65332575],\n",
       "       [ 0.62630837, -0.13356967, -1.09608186, -1.65332575],\n",
       "       [ 0.57564983, -0.18422821, -0.99476479, -1.65332575],\n",
       "       [ 0.77828398,  0.06906447, -1.04542332, -1.65332575],\n",
       "       [ 0.98091812,  0.22104008, -0.89344771, -1.55200868],\n",
       "       [ 0.57564983, -0.0322526 , -1.04542332, -1.60266722],\n",
       "       [ 0.77828398, -0.0322526 , -0.99476479, -1.65332575],\n",
       "       [ 0.47433276, -0.28554528, -1.04542332, -1.65332575],\n",
       "       [ 0.72762544, -0.18422821, -0.99476479, -1.70398429],\n",
       "       [ 0.98091812,  0.11972301, -0.99476479, -1.65332575],\n",
       "       [ 0.6769669 , -0.0322526 , -0.94410625, -1.65332575],\n",
       "       [ 0.6769669 , -0.23488675, -1.04542332, -1.70398429],\n",
       "       [ 0.42367422, -0.23488675, -1.19739893, -1.70398429],\n",
       "       [ 1.18355226,  0.27169861, -1.14674039, -1.65332575],\n",
       "       [ 1.13289373,  0.47433276, -0.99476479, -1.55200868],\n",
       "       [ 0.98091812,  0.22104008, -1.09608186, -1.55200868],\n",
       "       [ 0.82894251,  0.01840593, -1.04542332, -1.60266722],\n",
       "       [ 1.13289373,  0.17038154, -0.89344771, -1.60266722],\n",
       "       [ 0.82894251,  0.17038154, -0.99476479, -1.60266722],\n",
       "       [ 0.98091812, -0.0322526 , -0.89344771, -1.65332575],\n",
       "       [ 0.82894251,  0.11972301, -0.99476479, -1.55200868],\n",
       "       [ 0.57564983,  0.06906447, -1.24805747, -1.65332575],\n",
       "       [ 0.82894251, -0.08291114, -0.89344771, -1.50135015],\n",
       "       [ 0.6769669 , -0.0322526 , -0.79213064, -1.65332575],\n",
       "       [ 0.77828398, -0.23488675, -0.94410625, -1.65332575],\n",
       "       [ 0.77828398, -0.0322526 , -0.94410625, -1.55200868],\n",
       "       [ 0.87960105,  0.01840593, -0.99476479, -1.65332575],\n",
       "       [ 0.87960105, -0.0322526 , -1.04542332, -1.65332575],\n",
       "       [ 0.62630837, -0.13356967, -0.94410625, -1.65332575],\n",
       "       [ 0.6769669 , -0.18422821, -0.94410625, -1.65332575],\n",
       "       [ 0.98091812, -0.0322526 , -0.99476479, -1.55200868],\n",
       "       [ 0.87960105,  0.32235715, -0.99476479, -1.70398429],\n",
       "       [ 1.03157666,  0.37301569, -1.04542332, -1.65332575],\n",
       "       [ 0.72762544, -0.18422821, -0.99476479, -1.70398429],\n",
       "       [ 0.77828398, -0.13356967, -1.14674039, -1.65332575],\n",
       "       [ 1.03157666,  0.01840593, -1.09608186, -1.65332575],\n",
       "       [ 0.72762544, -0.18422821, -0.99476479, -1.70398429],\n",
       "       [ 0.47433276, -0.23488675, -1.09608186, -1.65332575],\n",
       "       [ 0.82894251, -0.0322526 , -0.99476479, -1.65332575],\n",
       "       [ 0.77828398,  0.01840593, -1.09608186, -1.60266722],\n",
       "       [ 0.52499129, -0.5894965 , -1.09608186, -1.60266722],\n",
       "       [ 0.47433276, -0.13356967, -1.09608186, -1.65332575],\n",
       "       [ 0.77828398,  0.01840593, -0.94410625, -1.45069161],\n",
       "       [ 0.82894251,  0.17038154, -0.79213064, -1.55200868],\n",
       "       [ 0.6769669 , -0.23488675, -1.04542332, -1.60266722],\n",
       "       [ 0.82894251,  0.17038154, -0.94410625, -1.65332575],\n",
       "       [ 0.57564983, -0.13356967, -1.04542332, -1.65332575],\n",
       "       [ 0.93025958,  0.11972301, -0.99476479, -1.65332575],\n",
       "       [ 0.77828398, -0.08291114, -1.04542332, -1.65332575],\n",
       "       [ 1.7914547 , -0.13356967,  0.62630837, -1.04542332],\n",
       "       [ 1.48750348, -0.13356967,  0.52499129, -0.99476479],\n",
       "       [ 1.74079616, -0.18422821,  0.72762544, -0.99476479],\n",
       "       [ 1.03157666, -0.5894965 ,  0.27169861, -1.09608186],\n",
       "       [ 1.53816202, -0.33620382,  0.57564983, -0.99476479],\n",
       "       [ 1.13289373, -0.33620382,  0.52499129, -1.09608186],\n",
       "       [ 1.43684494, -0.08291114,  0.62630837, -0.94410625],\n",
       "       [ 0.72762544, -0.53883796, -0.08291114, -1.24805747],\n",
       "       [ 1.58882055, -0.28554528,  0.57564983, -1.09608186],\n",
       "       [ 0.87960105, -0.38686235,  0.22104008, -1.04542332],\n",
       "       [ 0.77828398, -0.74147211,  0.01840593, -1.24805747],\n",
       "       [ 1.2342108 , -0.23488675,  0.37301569, -0.99476479],\n",
       "       [ 1.28486934, -0.64015503,  0.27169861, -1.24805747],\n",
       "       [ 1.33552787, -0.28554528,  0.62630837, -1.04542332],\n",
       "       [ 1.08223519, -0.28554528,  0.06906447, -1.09608186],\n",
       "       [ 1.63947909, -0.18422821,  0.47433276, -1.04542332],\n",
       "       [ 1.08223519, -0.23488675,  0.52499129, -0.99476479],\n",
       "       [ 1.18355226, -0.38686235,  0.32235715, -1.24805747],\n",
       "       [ 1.38618641, -0.64015503,  0.52499129, -0.99476479],\n",
       "       [ 1.08223519, -0.48817943,  0.22104008, -1.19739893],\n",
       "       [ 1.2342108 , -0.13356967,  0.6769669 , -0.84278918],\n",
       "       [ 1.33552787, -0.33620382,  0.27169861, -1.09608186],\n",
       "       [ 1.43684494, -0.48817943,  0.72762544, -0.99476479],\n",
       "       [ 1.33552787, -0.33620382,  0.62630837, -1.14674039],\n",
       "       [ 1.48750348, -0.28554528,  0.42367422, -1.09608186],\n",
       "       [ 1.58882055, -0.23488675,  0.47433276, -1.04542332],\n",
       "       [ 1.69013762, -0.33620382,  0.6769669 , -1.04542332],\n",
       "       [ 1.63947909, -0.23488675,  0.77828398, -0.89344771],\n",
       "       [ 1.28486934, -0.28554528,  0.52499129, -0.99476479],\n",
       "       [ 1.13289373, -0.43752089,  0.01840593, -1.24805747],\n",
       "       [ 1.03157666, -0.53883796,  0.17038154, -1.19739893],\n",
       "       [ 1.03157666, -0.53883796,  0.11972301, -1.24805747],\n",
       "       [ 1.18355226, -0.38686235,  0.22104008, -1.14674039],\n",
       "       [ 1.28486934, -0.38686235,  0.82894251, -0.94410625],\n",
       "       [ 0.98091812, -0.23488675,  0.52499129, -0.99476479],\n",
       "       [ 1.28486934, -0.0322526 ,  0.52499129, -0.94410625],\n",
       "       [ 1.63947909, -0.18422821,  0.62630837, -0.99476479],\n",
       "       [ 1.43684494, -0.5894965 ,  0.47433276, -1.09608186],\n",
       "       [ 1.08223519, -0.23488675,  0.32235715, -1.09608186],\n",
       "       [ 1.03157666, -0.48817943,  0.27169861, -1.09608186],\n",
       "       [ 1.03157666, -0.43752089,  0.47433276, -1.14674039],\n",
       "       [ 1.33552787, -0.23488675,  0.57564983, -1.04542332],\n",
       "       [ 1.18355226, -0.43752089,  0.27169861, -1.14674039],\n",
       "       [ 0.77828398, -0.5894965 , -0.08291114, -1.24805747],\n",
       "       [ 1.08223519, -0.38686235,  0.37301569, -1.09608186],\n",
       "       [ 1.13289373, -0.23488675,  0.37301569, -1.14674039],\n",
       "       [ 1.13289373, -0.28554528,  0.37301569, -1.09608186],\n",
       "       [ 1.38618641, -0.28554528,  0.42367422, -1.09608186],\n",
       "       [ 0.82894251, -0.48817943, -0.23488675, -1.19739893],\n",
       "       [ 1.13289373, -0.33620382,  0.32235715, -1.09608186],\n",
       "       [ 1.43684494, -0.08291114,  1.28486934, -0.48817943],\n",
       "       [ 1.18355226, -0.38686235,  0.82894251, -0.79213064],\n",
       "       [ 1.84211323, -0.23488675,  1.2342108 , -0.69081357],\n",
       "       [ 1.43684494, -0.28554528,  1.08223519, -0.84278918],\n",
       "       [ 1.53816202, -0.23488675,  1.18355226, -0.64015503],\n",
       "       [ 2.09540591, -0.23488675,  1.58882055, -0.69081357],\n",
       "       [ 0.72762544, -0.48817943,  0.52499129, -0.89344771],\n",
       "       [ 1.9434303 , -0.28554528,  1.43684494, -0.84278918],\n",
       "       [ 1.63947909, -0.48817943,  1.18355226, -0.84278918],\n",
       "       [ 1.89277177,  0.06906447,  1.33552787, -0.48817943],\n",
       "       [ 1.53816202, -0.13356967,  0.82894251, -0.74147211],\n",
       "       [ 1.48750348, -0.38686235,  0.93025958, -0.79213064],\n",
       "       [ 1.69013762, -0.23488675,  1.03157666, -0.69081357],\n",
       "       [ 1.13289373, -0.48817943,  0.77828398, -0.74147211],\n",
       "       [ 1.18355226, -0.33620382,  0.82894251, -0.53883796],\n",
       "       [ 1.48750348, -0.13356967,  0.93025958, -0.5894965 ],\n",
       "       [ 1.53816202, -0.23488675,  1.03157666, -0.84278918],\n",
       "       [ 2.14606445,  0.17038154,  1.63947909, -0.64015503],\n",
       "       [ 2.14606445, -0.43752089,  1.74079616, -0.5894965 ],\n",
       "       [ 1.28486934, -0.64015503,  0.77828398, -0.99476479],\n",
       "       [ 1.74079616, -0.13356967,  1.13289373, -0.5894965 ],\n",
       "       [ 1.08223519, -0.33620382,  0.72762544, -0.74147211],\n",
       "       [ 2.14606445, -0.33620382,  1.63947909, -0.74147211],\n",
       "       [ 1.43684494, -0.38686235,  0.72762544, -0.84278918],\n",
       "       [ 1.63947909, -0.08291114,  1.13289373, -0.69081357],\n",
       "       [ 1.89277177, -0.13356967,  1.28486934, -0.84278918],\n",
       "       [ 1.38618641, -0.33620382,  0.6769669 , -0.84278918],\n",
       "       [ 1.33552787, -0.23488675,  0.72762544, -0.84278918],\n",
       "       [ 1.48750348, -0.33620382,  1.08223519, -0.69081357],\n",
       "       [ 1.89277177, -0.23488675,  1.18355226, -0.94410625],\n",
       "       [ 1.99408884, -0.33620382,  1.33552787, -0.79213064],\n",
       "       [ 2.24738152,  0.17038154,  1.48750348, -0.74147211],\n",
       "       [ 1.48750348, -0.33620382,  1.08223519, -0.64015503],\n",
       "       [ 1.43684494, -0.33620382,  0.82894251, -0.99476479],\n",
       "       [ 1.33552787, -0.43752089,  1.08223519, -1.04542332],\n",
       "       [ 2.14606445, -0.23488675,  1.33552787, -0.5894965 ],\n",
       "       [ 1.43684494, -0.0322526 ,  1.08223519, -0.53883796],\n",
       "       [ 1.48750348, -0.18422821,  1.03157666, -0.84278918],\n",
       "       [ 1.28486934, -0.23488675,  0.6769669 , -0.84278918],\n",
       "       [ 1.74079616, -0.18422821,  0.98091812, -0.69081357],\n",
       "       [ 1.63947909, -0.18422821,  1.08223519, -0.53883796],\n",
       "       [ 1.74079616, -0.18422821,  0.82894251, -0.5894965 ],\n",
       "       [ 1.18355226, -0.38686235,  0.82894251, -0.79213064],\n",
       "       [ 1.69013762, -0.13356967,  1.2342108 , -0.5894965 ],\n",
       "       [ 1.63947909, -0.08291114,  1.13289373, -0.48817943],\n",
       "       [ 1.63947909, -0.23488675,  0.87960105, -0.5894965 ],\n",
       "       [ 1.43684494, -0.48817943,  0.77828398, -0.79213064],\n",
       "       [ 1.53816202, -0.23488675,  0.87960105, -0.74147211],\n",
       "       [ 1.38618641, -0.0322526 ,  0.98091812, -0.5894965 ],\n",
       "       [ 1.2342108 , -0.23488675,  0.82894251, -0.84278918]])"
      ]
     },
     "execution_count": 77,
     "metadata": {},
     "output_type": "execute_result"
    }
   ],
   "source": [
    "x_standarized = (x-x.mean())/ x.std()\n",
    "x_standarized"
   ]
  },
  {
   "cell_type": "markdown",
   "metadata": {},
   "source": [
    "### Tentukan Jumlah Cluster (k)\n",
    "Elbow Method"
   ]
  },
  {
   "cell_type": "markdown",
   "metadata": {},
   "source": [
    "#### jarak euclidean\n",
    "menghitung jarak antara data dan juga titik centroid"
   ]
  },
  {
   "cell_type": "code",
   "execution_count": 78,
   "metadata": {},
   "outputs": [],
   "source": [
    "def euclidean_distance(a, b):\n",
    "    return np.sqrt(np.sum((a - b)**2))"
   ]
  },
  {
   "cell_type": "markdown",
   "metadata": {},
   "source": [
    "#### Inertia\n",
    "jumlahkan jarak kuadrat antara setiap titik data dan centroid-nya"
   ]
  },
  {
   "cell_type": "code",
   "execution_count": 79,
   "metadata": {},
   "outputs": [],
   "source": [
    "def calculate_inertia(x, centroids, labels):\n",
    "    inertia = 0\n",
    "    for i in range(len(centroids)):\n",
    "        cluster_points = x[labels == i]\n",
    "        inertia += np.sum([euclidean_distance(point, centroids[i])**2 for point in cluster_points])\n",
    "    return inertia"
   ]
  },
  {
   "cell_type": "markdown",
   "metadata": {},
   "source": [
    "#### Menentukan k"
   ]
  },
  {
   "cell_type": "code",
   "execution_count": 80,
   "metadata": {},
   "outputs": [],
   "source": [
    "inertias = []\n",
    "k_range = range(1, 11)  \n",
    "\n",
    "for k in k_range:\n",
    "    # Inisialisasi centroid acak \n",
    "    centroids = x_standarized[np.random.choice(x_standarized.shape[0], k, replace=False)]\n",
    "    prev_centroids = np.zeros_like(centroids)\n",
    "\n",
    "    # ulangi terus sampai centroid tidak berubah\n",
    "    while np.any(centroids != prev_centroids):\n",
    "      \n",
    "        prev_centroids = centroids.copy()\n",
    "\n",
    "        # hitung jarak dan mengelompokkan data berdasarkan centroid terdekat\n",
    "        labels = np.array([np.argmin([euclidean_distance(point, centroid) for centroid in centroids]) for point in x_standarized])\n",
    "\n",
    "        # perbarui centroid\n",
    "        for i in range(k):\n",
    "            centroids[i] = np.mean(x_standarized[labels == i], axis=0)\n",
    "\n",
    "    # Hitung inertia untuk k \n",
    "    inertia = calculate_inertia(x_standarized, centroids, labels)\n",
    "    inertias.append(inertia)"
   ]
  },
  {
   "cell_type": "markdown",
   "metadata": {},
   "source": [
    "### Visualisasi Elbow Method"
   ]
  },
  {
   "cell_type": "code",
   "execution_count": 81,
   "metadata": {},
   "outputs": [
    {
     "data": {
      "text/plain": [
       "Text(0, 0.5, 'Inertia')"
      ]
     },
     "execution_count": 81,
     "metadata": {},
     "output_type": "execute_result"
    },
    {
     "data": {
      "image/png": "[encoded data removed]",
      "text/plain": [
       "<Figure size 640x480 with 1 Axes>"
      ]
     },
     "metadata": {},
     "output_type": "display_data"
    }
   ],
   "source": [
    "plt.plot(k_range, inertias, marker='o')\n",
    "plt.title('Menentukan K Optimal')\n",
    "plt.xlabel('Jumlah Cluster (k)')\n",
    "plt.ylabel('Inertia')"
   ]
  },
  {
   "cell_type": "markdown",
   "metadata": {},
   "source": [
    "### Clustering Algoritma Kmeans"
   ]
  },
  {
   "cell_type": "code",
   "execution_count": 82,
   "metadata": {},
   "outputs": [],
   "source": [
    "k = 3\n",
    "centroids = x_standarized[np.random.choice(x_standarized.shape[0], k, replace=False)] # Diacak untuk menentukan posisi centroid \n",
    "prev_centroids = np.zeros_like(centroids)\n",
    "\n",
    "#diualng sampai centroid tidak berubah\n",
    "while np.any(centroids != prev_centroids):\n",
    "    # Menyimpan centroid sebelumnya\n",
    "    prev_centroids = centroids.copy()\n",
    "\n",
    "    # hitung jarak dan mengelompokkan data berdasarkan centroid terdekat\n",
    "    labels = np.array([np.argmin([euclidean_distance(point, centroid) for centroid in centroids]) for point in x_standarized])\n",
    "\n",
    "    # perbarui centroid\n",
    "    for i in range(k):\n",
    "        centroids[i] = np.mean(x_standarized[labels == i], axis=0)\n"
   ]
  },
  {
   "cell_type": "markdown",
   "metadata": {},
   "source": [
    "# Visualisasi"
   ]
  },
  {
   "cell_type": "code",
   "execution_count": 83,
   "metadata": {},
   "outputs": [
    {
     "data": {
      "image/png": "[encoded data removed]",
      "text/plain": [
       "<Figure size 800x600 with 1 Axes>"
      ]
     },
     "metadata": {},
     "output_type": "display_data"
    }
   ],
   "source": [
    "plt.figure(figsize=(8, 6))\n",
    "for i in range(k):\n",
    "    plt.scatter(x_standarized[labels == i][:, 2], x_standarized[labels == i][:, 3], label=f'Cluster {i+3}')\n",
    "\n",
    "plt.scatter(centroids[:, 2], centroids[:, 3], color='red', marker='X', s=200, label='Centroids')\n",
    "plt.title(f'Hasil clustering dengan k={k}')\n",
    "plt.xlabel('Petal Length')\n",
    "plt.ylabel('Petal Width')\n",
    "plt.legend()\n",
    "plt.show()"
   ]
  },
  {
   "cell_type": "markdown",
   "metadata": {},
   "source": [
    "# Evaluasi"
   ]
  },
  {
   "cell_type": "code",
   "execution_count": 84,
   "metadata": {},
   "outputs": [
    {
     "name": "stdout",
     "output_type": "stream",
     "text": [
      "Besar Inertia: 20.0\n"
     ]
    }
   ],
   "source": [
    "\n",
    "inertia = calculate_inertia(x_standarized, centroids, labels)\n",
    "print(\"Besar Inertia:\",inertia.round())"
   ]
  },
  {
   "cell_type": "markdown",
   "metadata": {},
   "source": [
    "# Kesimpulan\n",
    "\n",
    "k yang cocok untuk proses modelling adalah k=3\\n\n",
    "pembagian sudah cukup baik karena inertianya tidak besar besar amat (masih wajar harusnya)\\n\n",
    "hasil visualisasi menunjukkan bahwa data sudah terbagi dengan baik tapi masih ada beberapa cluster yang bercampur di wilayah cluster lain "
   ]
  }
 ],
 "metadata": {
  "kernelspec": {
   "display_name": ".venv",
   "language": "python",
   "name": "python3"
  },
  "language_info": {
   "codemirror_mode": {
    "name": "ipython",
    "version": 3
   },
   "file_extension": ".py",
   "mimetype": "text/x-python",
   "name": "python",
   "nbconvert_exporter": "python",
   "pygments_lexer": "ipython3",
   "version": "3.12.6"
  }
 },
 "nbformat": 4,
 "nbformat_minor": 2
}
