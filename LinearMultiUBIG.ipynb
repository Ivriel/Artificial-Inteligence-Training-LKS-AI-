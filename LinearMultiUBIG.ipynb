{
 "cells": [
  {
   "cell_type": "markdown",
   "metadata": {},
   "source": [
    "# Multilinear Regression UBIG"
   ]
  },
  {
   "cell_type": "code",
   "execution_count": 2,
   "metadata": {},
   "outputs": [],
   "source": [
    "import pandas as pd\n",
    "import numpy as np\n",
    "import seaborn as sns\n",
    "import matplotlib.pyplot as plt"
   ]
  },
  {
   "cell_type": "markdown",
   "metadata": {},
   "source": [
    "# Data Preparation"
   ]
  },
  {
   "cell_type": "code",
   "execution_count": 3,
   "metadata": {},
   "outputs": [
    {
     "data": {
      "text/html": [
       "<div>\n",
       "<style scoped>\n",
       "    .dataframe tbody tr th:only-of-type {\n",
       "        vertical-align: middle;\n",
       "    }\n",
       "\n",
       "    .dataframe tbody tr th {\n",
       "        vertical-align: top;\n",
       "    }\n",
       "\n",
       "    .dataframe thead th {\n",
       "        text-align: right;\n",
       "    }\n",
       "</style>\n",
       "<table border=\"1\" class=\"dataframe\">\n",
       "  <thead>\n",
       "    <tr style=\"text-align: right;\">\n",
       "      <th></th>\n",
       "      <th>R&amp;D</th>\n",
       "      <th>Administrasi</th>\n",
       "      <th>Marketing</th>\n",
       "      <th>Wilayah</th>\n",
       "      <th>Profit</th>\n",
       "    </tr>\n",
       "  </thead>\n",
       "  <tbody>\n",
       "    <tr>\n",
       "      <th>0</th>\n",
       "      <td>165349.20</td>\n",
       "      <td>136897.80</td>\n",
       "      <td>471784.10</td>\n",
       "      <td>New York</td>\n",
       "      <td>192261.83</td>\n",
       "    </tr>\n",
       "    <tr>\n",
       "      <th>1</th>\n",
       "      <td>162597.70</td>\n",
       "      <td>151377.59</td>\n",
       "      <td>443898.53</td>\n",
       "      <td>California</td>\n",
       "      <td>191792.06</td>\n",
       "    </tr>\n",
       "    <tr>\n",
       "      <th>2</th>\n",
       "      <td>153441.51</td>\n",
       "      <td>101145.55</td>\n",
       "      <td>407934.54</td>\n",
       "      <td>Florida</td>\n",
       "      <td>191050.39</td>\n",
       "    </tr>\n",
       "    <tr>\n",
       "      <th>3</th>\n",
       "      <td>144372.41</td>\n",
       "      <td>118671.85</td>\n",
       "      <td>383199.62</td>\n",
       "      <td>New York</td>\n",
       "      <td>182901.99</td>\n",
       "    </tr>\n",
       "    <tr>\n",
       "      <th>4</th>\n",
       "      <td>142107.34</td>\n",
       "      <td>91391.77</td>\n",
       "      <td>366168.42</td>\n",
       "      <td>Florida</td>\n",
       "      <td>166187.94</td>\n",
       "    </tr>\n",
       "    <tr>\n",
       "      <th>5</th>\n",
       "      <td>131876.90</td>\n",
       "      <td>99814.71</td>\n",
       "      <td>362861.36</td>\n",
       "      <td>New York</td>\n",
       "      <td>156991.12</td>\n",
       "    </tr>\n",
       "    <tr>\n",
       "      <th>6</th>\n",
       "      <td>134615.46</td>\n",
       "      <td>147198.87</td>\n",
       "      <td>127716.82</td>\n",
       "      <td>California</td>\n",
       "      <td>156122.51</td>\n",
       "    </tr>\n",
       "    <tr>\n",
       "      <th>7</th>\n",
       "      <td>130298.13</td>\n",
       "      <td>145530.06</td>\n",
       "      <td>323876.68</td>\n",
       "      <td>Florida</td>\n",
       "      <td>155752.60</td>\n",
       "    </tr>\n",
       "    <tr>\n",
       "      <th>8</th>\n",
       "      <td>120542.52</td>\n",
       "      <td>148718.95</td>\n",
       "      <td>311613.29</td>\n",
       "      <td>New York</td>\n",
       "      <td>152211.77</td>\n",
       "    </tr>\n",
       "    <tr>\n",
       "      <th>9</th>\n",
       "      <td>123334.88</td>\n",
       "      <td>108679.17</td>\n",
       "      <td>304981.62</td>\n",
       "      <td>California</td>\n",
       "      <td>149759.96</td>\n",
       "    </tr>\n",
       "    <tr>\n",
       "      <th>10</th>\n",
       "      <td>101913.08</td>\n",
       "      <td>110594.11</td>\n",
       "      <td>229160.95</td>\n",
       "      <td>Florida</td>\n",
       "      <td>146121.95</td>\n",
       "    </tr>\n",
       "    <tr>\n",
       "      <th>11</th>\n",
       "      <td>100671.96</td>\n",
       "      <td>91790.61</td>\n",
       "      <td>249744.55</td>\n",
       "      <td>California</td>\n",
       "      <td>144259.40</td>\n",
       "    </tr>\n",
       "    <tr>\n",
       "      <th>12</th>\n",
       "      <td>93863.75</td>\n",
       "      <td>127320.38</td>\n",
       "      <td>249839.44</td>\n",
       "      <td>Florida</td>\n",
       "      <td>141585.52</td>\n",
       "    </tr>\n",
       "    <tr>\n",
       "      <th>13</th>\n",
       "      <td>91992.39</td>\n",
       "      <td>135495.07</td>\n",
       "      <td>252664.93</td>\n",
       "      <td>California</td>\n",
       "      <td>134307.35</td>\n",
       "    </tr>\n",
       "    <tr>\n",
       "      <th>14</th>\n",
       "      <td>119943.24</td>\n",
       "      <td>156547.42</td>\n",
       "      <td>256512.92</td>\n",
       "      <td>Florida</td>\n",
       "      <td>132602.65</td>\n",
       "    </tr>\n",
       "    <tr>\n",
       "      <th>15</th>\n",
       "      <td>114523.61</td>\n",
       "      <td>122616.84</td>\n",
       "      <td>261776.23</td>\n",
       "      <td>New York</td>\n",
       "      <td>129917.04</td>\n",
       "    </tr>\n",
       "    <tr>\n",
       "      <th>16</th>\n",
       "      <td>78013.11</td>\n",
       "      <td>121597.55</td>\n",
       "      <td>264346.06</td>\n",
       "      <td>California</td>\n",
       "      <td>126992.93</td>\n",
       "    </tr>\n",
       "    <tr>\n",
       "      <th>17</th>\n",
       "      <td>94657.16</td>\n",
       "      <td>145077.58</td>\n",
       "      <td>282574.31</td>\n",
       "      <td>New York</td>\n",
       "      <td>125370.37</td>\n",
       "    </tr>\n",
       "    <tr>\n",
       "      <th>18</th>\n",
       "      <td>91749.16</td>\n",
       "      <td>114175.79</td>\n",
       "      <td>294919.57</td>\n",
       "      <td>Florida</td>\n",
       "      <td>124266.90</td>\n",
       "    </tr>\n",
       "    <tr>\n",
       "      <th>19</th>\n",
       "      <td>86419.70</td>\n",
       "      <td>153514.11</td>\n",
       "      <td>0.00</td>\n",
       "      <td>New York</td>\n",
       "      <td>122776.86</td>\n",
       "    </tr>\n",
       "    <tr>\n",
       "      <th>20</th>\n",
       "      <td>76253.86</td>\n",
       "      <td>113867.30</td>\n",
       "      <td>298664.47</td>\n",
       "      <td>California</td>\n",
       "      <td>118474.03</td>\n",
       "    </tr>\n",
       "    <tr>\n",
       "      <th>21</th>\n",
       "      <td>78389.47</td>\n",
       "      <td>153773.43</td>\n",
       "      <td>299737.29</td>\n",
       "      <td>New York</td>\n",
       "      <td>111313.02</td>\n",
       "    </tr>\n",
       "    <tr>\n",
       "      <th>22</th>\n",
       "      <td>73994.56</td>\n",
       "      <td>122782.75</td>\n",
       "      <td>303319.26</td>\n",
       "      <td>Florida</td>\n",
       "      <td>110352.25</td>\n",
       "    </tr>\n",
       "    <tr>\n",
       "      <th>23</th>\n",
       "      <td>67532.53</td>\n",
       "      <td>105751.03</td>\n",
       "      <td>304768.73</td>\n",
       "      <td>Florida</td>\n",
       "      <td>108733.99</td>\n",
       "    </tr>\n",
       "    <tr>\n",
       "      <th>24</th>\n",
       "      <td>77044.01</td>\n",
       "      <td>99281.34</td>\n",
       "      <td>140574.81</td>\n",
       "      <td>New York</td>\n",
       "      <td>108552.04</td>\n",
       "    </tr>\n",
       "    <tr>\n",
       "      <th>25</th>\n",
       "      <td>64664.71</td>\n",
       "      <td>139553.16</td>\n",
       "      <td>137962.62</td>\n",
       "      <td>California</td>\n",
       "      <td>107404.34</td>\n",
       "    </tr>\n",
       "    <tr>\n",
       "      <th>26</th>\n",
       "      <td>75328.87</td>\n",
       "      <td>144135.98</td>\n",
       "      <td>134050.07</td>\n",
       "      <td>Florida</td>\n",
       "      <td>105733.54</td>\n",
       "    </tr>\n",
       "    <tr>\n",
       "      <th>27</th>\n",
       "      <td>72107.60</td>\n",
       "      <td>127864.55</td>\n",
       "      <td>353183.81</td>\n",
       "      <td>New York</td>\n",
       "      <td>105008.31</td>\n",
       "    </tr>\n",
       "    <tr>\n",
       "      <th>28</th>\n",
       "      <td>66051.52</td>\n",
       "      <td>182645.56</td>\n",
       "      <td>118148.20</td>\n",
       "      <td>Florida</td>\n",
       "      <td>103282.38</td>\n",
       "    </tr>\n",
       "    <tr>\n",
       "      <th>29</th>\n",
       "      <td>65605.48</td>\n",
       "      <td>153032.06</td>\n",
       "      <td>107138.38</td>\n",
       "      <td>New York</td>\n",
       "      <td>101004.64</td>\n",
       "    </tr>\n",
       "    <tr>\n",
       "      <th>30</th>\n",
       "      <td>61994.48</td>\n",
       "      <td>115641.28</td>\n",
       "      <td>91131.24</td>\n",
       "      <td>Florida</td>\n",
       "      <td>99937.59</td>\n",
       "    </tr>\n",
       "    <tr>\n",
       "      <th>31</th>\n",
       "      <td>61136.38</td>\n",
       "      <td>152701.92</td>\n",
       "      <td>88218.23</td>\n",
       "      <td>New York</td>\n",
       "      <td>97483.56</td>\n",
       "    </tr>\n",
       "    <tr>\n",
       "      <th>32</th>\n",
       "      <td>63408.86</td>\n",
       "      <td>129219.61</td>\n",
       "      <td>46085.25</td>\n",
       "      <td>California</td>\n",
       "      <td>97427.84</td>\n",
       "    </tr>\n",
       "    <tr>\n",
       "      <th>33</th>\n",
       "      <td>55493.95</td>\n",
       "      <td>103057.49</td>\n",
       "      <td>214634.81</td>\n",
       "      <td>Florida</td>\n",
       "      <td>96778.92</td>\n",
       "    </tr>\n",
       "    <tr>\n",
       "      <th>34</th>\n",
       "      <td>46426.07</td>\n",
       "      <td>157693.92</td>\n",
       "      <td>210797.67</td>\n",
       "      <td>California</td>\n",
       "      <td>96712.80</td>\n",
       "    </tr>\n",
       "    <tr>\n",
       "      <th>35</th>\n",
       "      <td>46014.02</td>\n",
       "      <td>85047.44</td>\n",
       "      <td>205517.64</td>\n",
       "      <td>New York</td>\n",
       "      <td>96479.51</td>\n",
       "    </tr>\n",
       "    <tr>\n",
       "      <th>36</th>\n",
       "      <td>28663.76</td>\n",
       "      <td>127056.21</td>\n",
       "      <td>201126.82</td>\n",
       "      <td>Florida</td>\n",
       "      <td>90708.19</td>\n",
       "    </tr>\n",
       "    <tr>\n",
       "      <th>37</th>\n",
       "      <td>44069.95</td>\n",
       "      <td>51283.14</td>\n",
       "      <td>197029.42</td>\n",
       "      <td>California</td>\n",
       "      <td>89949.14</td>\n",
       "    </tr>\n",
       "    <tr>\n",
       "      <th>38</th>\n",
       "      <td>20229.59</td>\n",
       "      <td>65947.93</td>\n",
       "      <td>185265.10</td>\n",
       "      <td>New York</td>\n",
       "      <td>81229.06</td>\n",
       "    </tr>\n",
       "    <tr>\n",
       "      <th>39</th>\n",
       "      <td>38558.51</td>\n",
       "      <td>82982.09</td>\n",
       "      <td>174999.30</td>\n",
       "      <td>California</td>\n",
       "      <td>81005.76</td>\n",
       "    </tr>\n",
       "    <tr>\n",
       "      <th>40</th>\n",
       "      <td>28754.33</td>\n",
       "      <td>118546.05</td>\n",
       "      <td>172795.67</td>\n",
       "      <td>California</td>\n",
       "      <td>78239.91</td>\n",
       "    </tr>\n",
       "    <tr>\n",
       "      <th>41</th>\n",
       "      <td>27892.92</td>\n",
       "      <td>84710.77</td>\n",
       "      <td>164470.71</td>\n",
       "      <td>Florida</td>\n",
       "      <td>77798.83</td>\n",
       "    </tr>\n",
       "    <tr>\n",
       "      <th>42</th>\n",
       "      <td>23640.93</td>\n",
       "      <td>96189.63</td>\n",
       "      <td>148001.11</td>\n",
       "      <td>California</td>\n",
       "      <td>71498.49</td>\n",
       "    </tr>\n",
       "    <tr>\n",
       "      <th>43</th>\n",
       "      <td>15505.73</td>\n",
       "      <td>127382.30</td>\n",
       "      <td>35534.17</td>\n",
       "      <td>New York</td>\n",
       "      <td>69758.98</td>\n",
       "    </tr>\n",
       "    <tr>\n",
       "      <th>44</th>\n",
       "      <td>22177.74</td>\n",
       "      <td>154806.14</td>\n",
       "      <td>28334.72</td>\n",
       "      <td>California</td>\n",
       "      <td>65200.33</td>\n",
       "    </tr>\n",
       "    <tr>\n",
       "      <th>45</th>\n",
       "      <td>1000.23</td>\n",
       "      <td>124153.04</td>\n",
       "      <td>1903.93</td>\n",
       "      <td>New York</td>\n",
       "      <td>64926.08</td>\n",
       "    </tr>\n",
       "    <tr>\n",
       "      <th>46</th>\n",
       "      <td>1315.46</td>\n",
       "      <td>115816.21</td>\n",
       "      <td>297114.46</td>\n",
       "      <td>Florida</td>\n",
       "      <td>49490.75</td>\n",
       "    </tr>\n",
       "    <tr>\n",
       "      <th>47</th>\n",
       "      <td>0.00</td>\n",
       "      <td>135426.92</td>\n",
       "      <td>0.00</td>\n",
       "      <td>California</td>\n",
       "      <td>42559.73</td>\n",
       "    </tr>\n",
       "    <tr>\n",
       "      <th>48</th>\n",
       "      <td>542.05</td>\n",
       "      <td>51743.15</td>\n",
       "      <td>0.00</td>\n",
       "      <td>New York</td>\n",
       "      <td>35673.41</td>\n",
       "    </tr>\n",
       "    <tr>\n",
       "      <th>49</th>\n",
       "      <td>0.00</td>\n",
       "      <td>116983.80</td>\n",
       "      <td>45173.06</td>\n",
       "      <td>California</td>\n",
       "      <td>14681.40</td>\n",
       "    </tr>\n",
       "  </tbody>\n",
       "</table>\n",
       "</div>"
      ],
      "text/plain": [
       "          R&D  Administrasi  Marketing     Wilayah     Profit\n",
       "0   165349.20     136897.80  471784.10    New York  192261.83\n",
       "1   162597.70     151377.59  443898.53  California  191792.06\n",
       "2   153441.51     101145.55  407934.54     Florida  191050.39\n",
       "3   144372.41     118671.85  383199.62    New York  182901.99\n",
       "4   142107.34      91391.77  366168.42     Florida  166187.94\n",
       "5   131876.90      99814.71  362861.36    New York  156991.12\n",
       "6   134615.46     147198.87  127716.82  California  156122.51\n",
       "7   130298.13     145530.06  323876.68     Florida  155752.60\n",
       "8   120542.52     148718.95  311613.29    New York  152211.77\n",
       "9   123334.88     108679.17  304981.62  California  149759.96\n",
       "10  101913.08     110594.11  229160.95     Florida  146121.95\n",
       "11  100671.96      91790.61  249744.55  California  144259.40\n",
       "12   93863.75     127320.38  249839.44     Florida  141585.52\n",
       "13   91992.39     135495.07  252664.93  California  134307.35\n",
       "14  119943.24     156547.42  256512.92     Florida  132602.65\n",
       "15  114523.61     122616.84  261776.23    New York  129917.04\n",
       "16   78013.11     121597.55  264346.06  California  126992.93\n",
       "17   94657.16     145077.58  282574.31    New York  125370.37\n",
       "18   91749.16     114175.79  294919.57     Florida  124266.90\n",
       "19   86419.70     153514.11       0.00    New York  122776.86\n",
       "20   76253.86     113867.30  298664.47  California  118474.03\n",
       "21   78389.47     153773.43  299737.29    New York  111313.02\n",
       "22   73994.56     122782.75  303319.26     Florida  110352.25\n",
       "23   67532.53     105751.03  304768.73     Florida  108733.99\n",
       "24   77044.01      99281.34  140574.81    New York  108552.04\n",
       "25   64664.71     139553.16  137962.62  California  107404.34\n",
       "26   75328.87     144135.98  134050.07     Florida  105733.54\n",
       "27   72107.60     127864.55  353183.81    New York  105008.31\n",
       "28   66051.52     182645.56  118148.20     Florida  103282.38\n",
       "29   65605.48     153032.06  107138.38    New York  101004.64\n",
       "30   61994.48     115641.28   91131.24     Florida   99937.59\n",
       "31   61136.38     152701.92   88218.23    New York   97483.56\n",
       "32   63408.86     129219.61   46085.25  California   97427.84\n",
       "33   55493.95     103057.49  214634.81     Florida   96778.92\n",
       "34   46426.07     157693.92  210797.67  California   96712.80\n",
       "35   46014.02      85047.44  205517.64    New York   96479.51\n",
       "36   28663.76     127056.21  201126.82     Florida   90708.19\n",
       "37   44069.95      51283.14  197029.42  California   89949.14\n",
       "38   20229.59      65947.93  185265.10    New York   81229.06\n",
       "39   38558.51      82982.09  174999.30  California   81005.76\n",
       "40   28754.33     118546.05  172795.67  California   78239.91\n",
       "41   27892.92      84710.77  164470.71     Florida   77798.83\n",
       "42   23640.93      96189.63  148001.11  California   71498.49\n",
       "43   15505.73     127382.30   35534.17    New York   69758.98\n",
       "44   22177.74     154806.14   28334.72  California   65200.33\n",
       "45    1000.23     124153.04    1903.93    New York   64926.08\n",
       "46    1315.46     115816.21  297114.46     Florida   49490.75\n",
       "47       0.00     135426.92       0.00  California   42559.73\n",
       "48     542.05      51743.15       0.00    New York   35673.41\n",
       "49       0.00     116983.80   45173.06  California   14681.40"
      ]
     },
     "execution_count": 3,
     "metadata": {},
     "output_type": "execute_result"
    }
   ],
   "source": [
    "dataset = pd.read_csv(r'E:\\pythonjupyter\\datasets\\50_Startups.csv')\n",
    "dataset"
   ]
  },
  {
   "cell_type": "code",
   "execution_count": 4,
   "metadata": {},
   "outputs": [
    {
     "name": "stdout",
     "output_type": "stream",
     "text": [
      "R&D             0\n",
      "Administrasi    0\n",
      "Marketing       0\n",
      "Wilayah         0\n",
      "Profit          0\n",
      "dtype: int64\n"
     ]
    }
   ],
   "source": [
    "print(dataset.isna().sum())"
   ]
  },
  {
   "cell_type": "code",
   "execution_count": 5,
   "metadata": {},
   "outputs": [
    {
     "name": "stdout",
     "output_type": "stream",
     "text": [
      "R&D             0\n",
      "Administrasi    0\n",
      "Marketing       0\n",
      "Wilayah         0\n",
      "Profit          0\n",
      "dtype: int64\n"
     ]
    }
   ],
   "source": [
    "print(dataset.isnull().sum())"
   ]
  },
  {
   "cell_type": "code",
   "execution_count": 6,
   "metadata": {},
   "outputs": [
    {
     "name": "stdout",
     "output_type": "stream",
     "text": [
      "R&D             float64\n",
      "Administrasi    float64\n",
      "Marketing       float64\n",
      "Wilayah          object\n",
      "Profit          float64\n",
      "dtype: object\n"
     ]
    }
   ],
   "source": [
    "print(dataset.dtypes)"
   ]
  },
  {
   "cell_type": "code",
   "execution_count": 7,
   "metadata": {},
   "outputs": [
    {
     "name": "stdout",
     "output_type": "stream",
     "text": [
      "Jumlah Baris: 50\n",
      "Jumlah Kolom (Variabel): 5\n"
     ]
    }
   ],
   "source": [
    "rows,columns = dataset.shape\n",
    "print(\"Jumlah Baris:\",rows)\n",
    "print(\"Jumlah Kolom (Variabel):\",columns)"
   ]
  },
  {
   "cell_type": "markdown",
   "metadata": {},
   "source": [
    "# EDA"
   ]
  },
  {
   "cell_type": "code",
   "execution_count": 8,
   "metadata": {},
   "outputs": [
    {
     "data": {
      "text/plain": [
       "<Axes: >"
      ]
     },
     "execution_count": 8,
     "metadata": {},
     "output_type": "execute_result"
    },
    {
     "data": {
      "image/png": "[encoded data removed]",
      "text/plain": [
       "<Figure size 640x480 with 2 Axes>"
      ]
     },
     "metadata": {},
     "output_type": "display_data"
    }
   ],
   "source": [
    "dataset['Wilayah'] = dataset['Wilayah'].map({'New York':0,'California':1,'Florida':2})\n",
    "correlation = dataset.corr()\n",
    "sns.heatmap(data=correlation,annot=True,cmap=\"coolwarm\",fmt='.2f')"
   ]
  },
  {
   "cell_type": "code",
   "execution_count": 9,
   "metadata": {},
   "outputs": [
    {
     "data": {
      "text/plain": [
       "<Axes: >"
      ]
     },
     "execution_count": 9,
     "metadata": {},
     "output_type": "execute_result"
    },
    {
     "data": {
      "image/png": "[encoded data removed]",
      "text/plain": [
       "<Figure size 640x480 with 1 Axes>"
      ]
     },
     "metadata": {},
     "output_type": "display_data"
    }
   ],
   "source": [
    "sns.boxplot(data=dataset)"
   ]
  },
  {
   "cell_type": "code",
   "execution_count": 10,
   "metadata": {},
   "outputs": [
    {
     "data": {
      "text/plain": [
       "<Axes: ylabel='count'>"
      ]
     },
     "execution_count": 10,
     "metadata": {},
     "output_type": "execute_result"
    },
    {
     "data": {
      "image/png": "[encoded data removed]",
      "text/plain": [
       "<Figure size 640x480 with 1 Axes>"
      ]
     },
     "metadata": {},
     "output_type": "display_data"
    }
   ],
   "source": [
    "sns.countplot(data=dataset)"
   ]
  },
  {
   "cell_type": "markdown",
   "metadata": {},
   "source": [
    "# Modelling"
   ]
  },
  {
   "cell_type": "code",
   "execution_count": 11,
   "metadata": {},
   "outputs": [],
   "source": [
    "x= dataset[['R&D','Marketing']]\n",
    "y= dataset['Profit']"
   ]
  },
  {
   "cell_type": "markdown",
   "metadata": {},
   "source": [
    "### Acak dan bagi dataset"
   ]
  },
  {
   "cell_type": "code",
   "execution_count": 12,
   "metadata": {},
   "outputs": [
    {
     "data": {
      "text/plain": [
       "array([[1.0000000e+00, 9.1992390e+04, 2.5266493e+05],\n",
       "       [1.0000000e+00, 3.8558510e+04, 1.7499930e+05],\n",
       "       [1.0000000e+00, 6.1994480e+04, 9.1131240e+04],\n",
       "       [1.0000000e+00, 1.0002300e+03, 1.9039300e+03],\n",
       "       [1.0000000e+00, 9.4657160e+04, 2.8257431e+05],\n",
       "       [1.0000000e+00, 5.4205000e+02, 0.0000000e+00],\n",
       "       [1.0000000e+00, 7.5328870e+04, 1.3405007e+05],\n",
       "       [1.0000000e+00, 6.4664710e+04, 1.3796262e+05],\n",
       "       [1.0000000e+00, 6.3408860e+04, 4.6085250e+04],\n",
       "       [1.0000000e+00, 8.6419700e+04, 0.0000000e+00],\n",
       "       [1.0000000e+00, 9.3863750e+04, 2.4983944e+05],\n",
       "       [1.0000000e+00, 1.4210734e+05, 3.6616842e+05],\n",
       "       [1.0000000e+00, 4.4069950e+04, 1.9702942e+05],\n",
       "       [1.0000000e+00, 1.2054252e+05, 3.1161329e+05],\n",
       "       [1.0000000e+00, 1.4437241e+05, 3.8319962e+05],\n",
       "       [1.0000000e+00, 1.3461546e+05, 1.2771682e+05],\n",
       "       [1.0000000e+00, 2.7892920e+04, 1.6447071e+05],\n",
       "       [1.0000000e+00, 1.3154600e+03, 2.9711446e+05],\n",
       "       [1.0000000e+00, 0.0000000e+00, 0.0000000e+00],\n",
       "       [1.0000000e+00, 1.1452361e+05, 2.6177623e+05],\n",
       "       [1.0000000e+00, 1.2333488e+05, 3.0498162e+05],\n",
       "       [1.0000000e+00, 7.8013110e+04, 2.6434606e+05],\n",
       "       [1.0000000e+00, 7.7044010e+04, 1.4057481e+05],\n",
       "       [1.0000000e+00, 4.6426070e+04, 2.1079767e+05],\n",
       "       [1.0000000e+00, 6.1136380e+04, 8.8218230e+04],\n",
       "       [1.0000000e+00, 1.6534920e+05, 4.7178410e+05],\n",
       "       [1.0000000e+00, 2.2177740e+04, 2.8334720e+04],\n",
       "       [1.0000000e+00, 7.2107600e+04, 3.5318381e+05],\n",
       "       [1.0000000e+00, 5.5493950e+04, 2.1463481e+05],\n",
       "       [1.0000000e+00, 1.3187690e+05, 3.6286136e+05],\n",
       "       [1.0000000e+00, 6.5605480e+04, 1.0713838e+05],\n",
       "       [1.0000000e+00, 1.0067196e+05, 2.4974455e+05],\n",
       "       [1.0000000e+00, 2.8663760e+04, 2.0112682e+05],\n",
       "       [1.0000000e+00, 1.6259770e+05, 4.4389853e+05],\n",
       "       [1.0000000e+00, 7.8389470e+04, 2.9973729e+05],\n",
       "       [1.0000000e+00, 1.5344151e+05, 4.0793454e+05],\n",
       "       [1.0000000e+00, 1.5505730e+04, 3.5534170e+04],\n",
       "       [1.0000000e+00, 4.6014020e+04, 2.0551764e+05],\n",
       "       [1.0000000e+00, 6.7532530e+04, 3.0476873e+05],\n",
       "       [1.0000000e+00, 2.8754330e+04, 1.7279567e+05]])"
      ]
     },
     "execution_count": 12,
     "metadata": {},
     "output_type": "execute_result"
    }
   ],
   "source": [
    "np.random.seed(42)\n",
    "shuffled_index = np.random.permutation(len(dataset))\n",
    "\n",
    "#Membagi data\n",
    "train_size = int(0.8*len(dataset))\n",
    "train_indices = shuffled_index[:train_size]\n",
    "test_indices = shuffled_index[train_size:]\n",
    "\n",
    "x_train,x_test = x.iloc[train_indices],x.iloc[test_indices]\n",
    "y_train,y_test = y.iloc[train_indices],y.iloc[test_indices]\n",
    "# Menambahkan intercept pada x_train dan x_test\n",
    "x_train = np.hstack((np.ones((x_train.shape[0], 1)), x_train))\n",
    "x_test = np.hstack((np.ones((x_test.shape[0], 1)), x_test))\n",
    "x_train\n"
   ]
  },
  {
   "cell_type": "markdown",
   "metadata": {},
   "source": [
    "### Rumus Beta (Koefisien)"
   ]
  },
  {
   "cell_type": "code",
   "execution_count": 13,
   "metadata": {},
   "outputs": [
    {
     "name": "stdout",
     "output_type": "stream",
     "text": [
      "Koefisien beta:\n",
      "[4.90145350e+04 7.94948040e-01 2.53046305e-02]\n"
     ]
    }
   ],
   "source": [
    "x_transpose = x_train.T\n",
    "x_transpose_x = np.dot(x_transpose, x_train)\n",
    "x_transpose_x_inv = np.linalg.inv(x_transpose_x)\n",
    "x_transpose_y = np.dot(x_transpose, y_train)\n",
    "beta = np.dot(x_transpose_x_inv, x_transpose_y)\n",
    "\n",
    "print(\"Koefisien beta:\")\n",
    "print(beta)\n"
   ]
  },
  {
   "cell_type": "code",
   "execution_count": 14,
   "metadata": {},
   "outputs": [
    {
     "name": "stdout",
     "output_type": "stream",
     "text": [
      "Prediksi pada data pengujian:\n",
      "[135828.97138335 115511.74726594 129413.18068435  50157.62261118\n",
      " 117189.98563149 160790.35779854  71552.95939136 150854.14323087\n",
      " 104511.75792796  69784.0728438 ]\n"
     ]
    }
   ],
   "source": [
    "y_pred = np.dot(x_test, beta)\n",
    "\n",
    "print(\"Prediksi pada data pengujian:\")\n",
    "print(y_pred)\n"
   ]
  },
  {
   "cell_type": "markdown",
   "metadata": {},
   "source": [
    "# Evaluasi"
   ]
  },
  {
   "cell_type": "code",
   "execution_count": 15,
   "metadata": {},
   "outputs": [
    {
     "name": "stdout",
     "output_type": "stream",
     "text": [
      "Mean Squared Error (MSE): 191025924.0\n",
      "R-squared (R2): 1.0\n"
     ]
    }
   ],
   "source": [
    "mse = np.mean((y_test - y_pred) ** 2)\n",
    "ss_residual = np.sum((y_test - y_pred) ** 2)\n",
    "ss_total = np.sum((y_test - np.mean(y_test)) ** 2)\n",
    "r2 = 1 - (ss_residual / ss_total)\n",
    "\n",
    "\n",
    "print(\"Mean Squared Error (MSE):\", mse.round())\n",
    "print(\"R-squared (R2):\", r2.round())\n"
   ]
  },
  {
   "cell_type": "markdown",
   "metadata": {},
   "source": [
    "# Visualisasi"
   ]
  },
  {
   "cell_type": "code",
   "execution_count": 16,
   "metadata": {},
   "outputs": [
    {
     "data": {
      "image/png": "[encoded data removed]",
      "text/plain": [
       "<Figure size 800x600 with 1 Axes>"
      ]
     },
     "metadata": {},
     "output_type": "display_data"
    }
   ],
   "source": [
    "# Scatter plot nilai aktual vs prediksi\n",
    "plt.figure(figsize=(8, 6))\n",
    "plt.scatter(y_test, y_pred, alpha=0.7)\n",
    "plt.plot([y_test.min(), y_test.max()], [y_test.min(), y_test.max()], 'r--', linewidth=2)  # Garis referensi\n",
    "plt.xlabel(\"Nilai Aktual\")\n",
    "plt.ylabel(\"Nilai Prediksi\")\n",
    "plt.title(\"Scatter Plot: Nilai Aktual vs Prediksi\")\n",
    "plt.grid(True)\n",
    "plt.show()"
   ]
  }
 ],
 "metadata": {
  "kernelspec": {
   "display_name": ".venv",
   "language": "python",
   "name": "python3"
  },
  "language_info": {
   "codemirror_mode": {
    "name": "ipython",
    "version": 3
   },
   "file_extension": ".py",
   "mimetype": "text/x-python",
   "name": "python",
   "nbconvert_exporter": "python",
   "pygments_lexer": "ipython3",
   "version": "3.12.6"
  }
 },
 "nbformat": 4,
 "nbformat_minor": 2
}
